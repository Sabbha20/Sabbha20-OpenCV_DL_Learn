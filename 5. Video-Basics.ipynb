{
 "cells": [
  {
   "cell_type": "markdown",
   "id": "b59fb1a6-e644-4bcd-b771-c106441147d1",
   "metadata": {},
   "source": [
    "### Capturing Vedio through Camera"
   ]
  },
  {
   "cell_type": "code",
   "execution_count": 1,
   "id": "4d1d7541-05ec-462e-9f3a-98a35de0bfe0",
   "metadata": {},
   "outputs": [],
   "source": [
    "import cv2\n",
    "\n",
    "cap = cv2.VideoCapture(0)\n",
    "\n",
    "width = int(cap.get(cv2.CAP_PROP_FRAME_WIDTH))\n",
    "height = int(cap.get(cv2.CAP_PROP_FRAME_HEIGHT))\n",
    "\n",
    "while True:\n",
    "\n",
    "    ret, frame = cap.read()\n",
    "\n",
    "    gray_img = cv2.cvtColor(frame, cv2.COLOR_BGR2GRAY)\n",
    "    cv2.imshow('frame', frame)\n",
    "    # cv2.imshow('frame', gray_img)\n",
    "    \n",
    "\n",
    "    if cv2.waitKey(1) & 0xFF == ord('q'): # if lower 'q' is pressed, it quits\n",
    "        break\n",
    "\n",
    "\n",
    "cap.release()\n",
    "cv2.destroyAllWindows()\n"
   ]
  },
  {
   "cell_type": "markdown",
   "id": "56d83a7f-12f2-49aa-903c-0c77481b6cc3",
   "metadata": {},
   "source": [
    "### Writing Vedio through Camera"
   ]
  },
  {
   "cell_type": "code",
   "execution_count": 3,
   "id": "76353c82-1173-4f58-b494-e9eefbb6c8f9",
   "metadata": {},
   "outputs": [],
   "source": [
    "cap = cv2.VideoCapture(0)\n",
    "\n",
    "width = int(cap.get(cv2.CAP_PROP_FRAME_WIDTH))\n",
    "height = int(cap.get(cv2.CAP_PROP_FRAME_HEIGHT))\n",
    "\n",
    "# In Fedora: DIVX, XVID, MJPG, X264, WMV1, WMV2. (XVID is more preferable. MJPG results in high size video. X264 gives very small size video)\n",
    "# In Windows: DIVX (More to be tested and added)\n",
    "# In OSX: MJPG (.mp4), DIVX (.avi), X264 (.mkv).\n",
    "\n",
    "writer = cv2.VideoWriter('./my_vedios/myFirstVideo.mp4', cv2.VideoWriter_fourcc(*'DIVX'), 20, (width, height))\n",
    "# Here 20 is fps(Frames per sec.)\n",
    "\n",
    "while True:\n",
    "\n",
    "    ret, frame = cap.read()\n",
    "\n",
    "    # Here we can write on the videos, and perform various operations\n",
    "    writer.write(frame)\n",
    "\n",
    "    gray_img = cv2.cvtColor(frame, cv2.COLOR_BGR2GRAY)\n",
    "\n",
    "    # cv2.imshow('frame', gray_img)\n",
    "    cv2.imshow('frame', frame)\n",
    "\n",
    "    if cv2.waitKey(1) & 0xFF == ord('q'): # if lower 'q' is pressed, it quits\n",
    "        break\n",
    "\n",
    "\n",
    "cap.release()\n",
    "writer.release()\n",
    "cv2.destroyAllWindows()\n"
   ]
  },
  {
   "cell_type": "markdown",
   "id": "4aee0259-eaf4-4129-9266-41d0339dac87",
   "metadata": {},
   "source": [
    "### Reading Video File"
   ]
  },
  {
   "cell_type": "code",
   "execution_count": 3,
   "id": "732df3a6-1c3e-424a-be71-f9115848ba83",
   "metadata": {},
   "outputs": [],
   "source": [
    "import cv2\n",
    "import time\n",
    "\n",
    "cap = cv2.VideoCapture(\"./Resources/Computer-Vision-with-Python/DATA/video_capture.mp4\")\n",
    "if cap.isOpened() == False:\n",
    "    print(\"ERROR IN READING TEH FILE. OR THE FILE DOES NOT EXIST.\")\n",
    "\n",
    "while cap.isOpened():\n",
    "    ret, frame = cap.read()\n",
    "\n",
    "    if ret == True:\n",
    "\n",
    "        time.sleep(1/20) # we are takin g1/20 as there is 20fps video, else the vedio will process as fast as the processor\n",
    "        cv2.imshow('frame', frame)\n",
    "    \n",
    "        if cv2.waitKey(1) & 0xFF == ord('q'):\n",
    "            break\n",
    "\n",
    "    else:\n",
    "        break\n",
    "\n",
    "cap.release()\n",
    "cv2.destroyAllWindows()    "
   ]
  },
  {
   "cell_type": "code",
   "execution_count": null,
   "id": "96e0d620-9bde-4634-9953-32af5c46fe10",
   "metadata": {},
   "outputs": [],
   "source": []
  }
 ],
 "metadata": {
  "kernelspec": {
   "display_name": "Python 3 (ipykernel)",
   "language": "python",
   "name": "python3"
  },
  "language_info": {
   "codemirror_mode": {
    "name": "ipython",
    "version": 3
   },
   "file_extension": ".py",
   "mimetype": "text/x-python",
   "name": "python",
   "nbconvert_exporter": "python",
   "pygments_lexer": "ipython3",
   "version": "3.11.5"
  }
 },
 "nbformat": 4,
 "nbformat_minor": 5
}
